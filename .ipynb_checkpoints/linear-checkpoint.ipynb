{
 "cells": [
  {
   "cell_type": "code",
   "execution_count": null,
   "id": "e63b0d90-3f4b-49d3-a1ee-8f0783972e1d",
   "metadata": {},
   "outputs": [],
   "source": [
    "from pulp import LpProblem, LpVariable, LpMaximize, lpSum\n",
    "\n",
    "\n",
    "model = LpProblem(\"Choose_Life_Partner\", LpMaximize)\n",
    "\n",
    "fun = {\"A\": 8, \"B\": 6, \"C\": 7}\n",
    "comfort = {\"A\": 7, \"B\": 9, \"C\": 6}\n",
    "future = {\"A\": 6, \"B\": 7, \"C\": 9}\n",
    "time_required = {\"A\": 4, \"B\": 5, \"C\": 6}\n",
    "\n",
    "x = {p: LpVariable(f\"x_{p}\", cat=\"Binary\") for p in [\"A\", \"B\", \"C\"]}\n",
    "model += lpSum([(fun[p] + comfort[p] + future[p]) * x[p] for p in x])\n",
    "\n",
    "model += lpSum([time_required[p] * x[p] for p in x]) <= 10\n",
    "model.solve()\n",
    "\n",
    "for p in x:\n",
    "    if x[p].value() == 1:\n",
    "        print(f\"Result {p} さん\")\n"
   ]
  }
 ],
 "metadata": {
  "kernelspec": {
   "display_name": "Python 3 (ipykernel)",
   "language": "python",
   "name": "python3"
  },
  "language_info": {
   "codemirror_mode": {
    "name": "ipython",
    "version": 3
   },
   "file_extension": ".py",
   "mimetype": "text/x-python",
   "name": "python",
   "nbconvert_exporter": "python",
   "pygments_lexer": "ipython3",
   "version": "3.12.6"
  }
 },
 "nbformat": 4,
 "nbformat_minor": 5
}
