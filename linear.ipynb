{
 "cells": [
  {
   "cell_type": "code",
   "execution_count": 4,
   "id": "e63b0d90-3f4b-49d3-a1ee-8f0783972e1d",
   "metadata": {},
   "outputs": [
    {
     "name": "stdout",
     "output_type": "stream",
     "text": [
      "Welcome to the CBC MILP Solver \n",
      "Version: 2.10.3 \n",
      "Build Date: Dec 15 2019 \n",
      "\n",
      "command line - /Library/Frameworks/Python.framework/Versions/3.12/lib/python3.12/site-packages/pulp/apis/../solverdir/cbc/osx/i64/cbc /var/folders/23/dxqwsqmd1w3g02ljvb96m6fm0000gn/T/80e2e8cd042c410ea0420eb581c66baf-pulp.mps -max -timeMode elapsed -branch -printingOptions all -solution /var/folders/23/dxqwsqmd1w3g02ljvb96m6fm0000gn/T/80e2e8cd042c410ea0420eb581c66baf-pulp.sol (default strategy 1)\n",
      "At line 2 NAME          MODEL\n",
      "At line 3 ROWS\n",
      "At line 6 COLUMNS\n",
      "At line 19 RHS\n",
      "At line 21 BOUNDS\n",
      "At line 25 ENDATA\n",
      "Problem MODEL has 1 rows, 3 columns and 3 elements\n",
      "Coin0008I MODEL read with 0 errors\n",
      "Option for timeMode changed from cpu to elapsed\n",
      "Continuous objective value is 46.6667 - 0.00 seconds\n",
      "Cgl0003I 0 fixed, 0 tightened bounds, 1 strengthened rows, 1 substitutions\n",
      "Cgl0004I processed model has 0 rows, 0 columns (0 integer (0 of which binary)) and 0 elements\n",
      "Cbc3007W No integer variables - nothing to do\n",
      "Cuts at root node changed objective from -43 to -1.79769e+308\n",
      "Probing was tried 0 times and created 0 cuts of which 0 were active after adding rounds of cuts (0.000 seconds)\n",
      "Gomory was tried 0 times and created 0 cuts of which 0 were active after adding rounds of cuts (0.000 seconds)\n",
      "Knapsack was tried 0 times and created 0 cuts of which 0 were active after adding rounds of cuts (0.000 seconds)\n",
      "Clique was tried 0 times and created 0 cuts of which 0 were active after adding rounds of cuts (0.000 seconds)\n",
      "MixedIntegerRounding2 was tried 0 times and created 0 cuts of which 0 were active after adding rounds of cuts (0.000 seconds)\n",
      "FlowCover was tried 0 times and created 0 cuts of which 0 were active after adding rounds of cuts (0.000 seconds)\n",
      "TwoMirCuts was tried 0 times and created 0 cuts of which 0 were active after adding rounds of cuts (0.000 seconds)\n",
      "ZeroHalf was tried 0 times and created 0 cuts of which 0 were active after adding rounds of cuts (0.000 seconds)\n",
      "\n",
      "Result - Optimal solution found\n",
      "\n",
      "Objective value:                43.00000000\n",
      "Enumerated nodes:               0\n",
      "Total iterations:               0\n",
      "Time (CPU seconds):             0.00\n",
      "Time (Wallclock seconds):       0.02\n",
      "\n",
      "Option for printingOptions changed from normal to all\n",
      "Total time (CPU seconds):       0.00   (Wallclock seconds):       0.03\n",
      "\n",
      "Result A さん\n",
      "Result B さん\n"
     ]
    }
   ],
   "source": [
    "from pulp import LpProblem, LpVariable, LpMaximize, lpSum\n",
    "\n",
    "\n",
    "model = LpProblem(\"Choose_Life_Partner\", LpMaximize)\n",
    "\n",
    "fun = {\"A\": 8, \"B\": 6, \"C\": 7}\n",
    "comfort = {\"A\": 7, \"B\": 9, \"C\": 6}\n",
    "future = {\"A\": 6, \"B\": 7, \"C\": 9}\n",
    "time_required = {\"A\": 4, \"B\": 5, \"C\": 6}\n",
    "\n",
    "x = {p: LpVariable(f\"x_{p}\", cat=\"Binary\") for p in [\"A\", \"B\", \"C\"]}\n",
    "model += lpSum([(fun[p] + comfort[p] + future[p]) * x[p] for p in x])\n",
    "\n",
    "model += lpSum([time_required[p] * x[p] for p in x]) <= 10\n",
    "model.solve()\n",
    "\n",
    "for p in x:\n",
    "    if x[p].value() == 1:\n",
    "        print(f\"Result {p} さん\")\n"
   ]
  },
  {
   "cell_type": "code",
   "execution_count": null,
   "id": "653bc289-970b-45f7-b08d-c1dceb2e16e5",
   "metadata": {},
   "outputs": [],
   "source": []
  }
 ],
 "metadata": {
  "kernelspec": {
   "display_name": "Python 3 (ipykernel)",
   "language": "python",
   "name": "python3"
  },
  "language_info": {
   "codemirror_mode": {
    "name": "ipython",
    "version": 3
   },
   "file_extension": ".py",
   "mimetype": "text/x-python",
   "name": "python",
   "nbconvert_exporter": "python",
   "pygments_lexer": "ipython3",
   "version": "3.12.6"
  }
 },
 "nbformat": 4,
 "nbformat_minor": 5
}
